{
  "cells": [
    {
      "cell_type": "markdown",
      "metadata": {
        "id": "view-in-github",
        "colab_type": "text"
      },
      "source": [
        "<a href=\"https://colab.research.google.com/github/ahnafwarith/oop-3/blob/main/CSE111_Assignment_3.ipynb\" target=\"_parent\"><img src=\"https://colab.research.google.com/assets/colab-badge.svg\" alt=\"Open In Colab\"/></a>"
      ]
    },
    {
      "cell_type": "markdown",
      "source": [
        "Questions : https://drive.google.com/file/d/1eXDIDfKF_XoYPT1wMBm2yKC226_NSW1S/view"
      ],
      "metadata": {
        "id": "BuIeqctejNyM"
      },
      "id": "BuIeqctejNyM"
    },
    {
      "cell_type": "markdown",
      "source": [
        "#Task 1"
      ],
      "metadata": {
        "id": "X7sNdqg9i2JD"
      },
      "id": "X7sNdqg9i2JD"
    },
    {
      "cell_type": "code",
      "execution_count": null,
      "id": "576aafc6",
      "metadata": {
        "colab": {
          "base_uri": "https://localhost:8080/"
        },
        "id": "576aafc6",
        "outputId": "45e147de-9f70-4560-89e6-140fe360b480"
      },
      "outputs": [
        {
          "output_type": "stream",
          "name": "stdout",
          "text": [
            "Let's calculate\n",
            "1st value10139821904823904\n",
            "2nd value2398734745987457834\n",
            "operator*\n",
            "Result: 24322743121225828206627646395263936\n"
          ]
        }
      ],
      "source": [
        "class Calculator:\n",
        "    def __init__(self,):\n",
        "        print(\"Let's calculate\")\n",
        "        self.fValue = int(input('1st value: '))\n",
        "        self.sValue = int(input('2nd value: '))\n",
        "    def add(self):\n",
        "        print('Result:',self.fValue+self.sValue)\n",
        "    def subtract(self,):\n",
        "        print('Result:',self.fValue-self.sValue)\n",
        "    def multiply(self):\n",
        "        print('Result:',self.fValue*self.sValue)\n",
        "    def divide(self):\n",
        "        print('Result:',self.fValue/self.sValue)\n",
        "c1 = Calculator()\n",
        "operator = input('operator: ')\n",
        "if operator == '+':\n",
        "  c1.add()\n",
        "elif operator == '-':\n",
        "  c1.subtract()\n",
        "elif operator == '*':\n",
        "  c1.multiply()\n",
        "elif operator == '/':\n",
        "  c1.divide()\n",
        "else:\n",
        "  print('select another operator')"
      ]
    },
    {
      "cell_type": "markdown",
      "source": [
        ""
      ],
      "metadata": {
        "id": "Wc4Lioisi1MD"
      },
      "id": "Wc4Lioisi1MD"
    },
    {
      "cell_type": "markdown",
      "source": [
        "#Task 2"
      ],
      "metadata": {
        "id": "qmD-lH62i9Ls"
      },
      "id": "qmD-lH62i9Ls"
    },
    {
      "cell_type": "markdown",
      "source": [
        ""
      ],
      "metadata": {
        "id": "dpJfEoyqi0Fr"
      },
      "id": "dpJfEoyqi0Fr"
    },
    {
      "cell_type": "raw",
      "id": "fea942b3",
      "metadata": {
        "id": "fea942b3"
      },
      "source": [
        "Task 2\n",
        "\n",
        "Implement the design of the Course class so that the following output is produced:\n",
        "\n",
        "Driver Code \n",
        "\n",
        "# Write your code here\n",
        "c1 = Course(\"CSE110\", \"TBA\", 8)\n",
        "c1.detail()\n",
        "print(\"===============\")\n",
        "c2 = Course(\"CSE111\", \"TBA\", 9)\n",
        "c2.detail()\n",
        "\n",
        "Output\n",
        "\n",
        "CSE110 - TBA - 8\n",
        "===============\n",
        "CSE111 - TBA - 9"
      ]
    },
    {
      "cell_type": "code",
      "execution_count": null,
      "id": "f0eaa234",
      "metadata": {
        "colab": {
          "base_uri": "https://localhost:8080/"
        },
        "id": "f0eaa234",
        "outputId": "69cb8435-e6fb-465c-e572-c170f951bb3a"
      },
      "outputs": [
        {
          "output_type": "stream",
          "name": "stdout",
          "text": [
            "CSE110 - TBA - 8\n",
            "===============\n",
            "CSE111 - TBA - 9\n"
          ]
        }
      ],
      "source": [
        "class Course:\n",
        "  def __init__(self,x,y,z):\n",
        "    self.course = x\n",
        "    self.date = y\n",
        "    self.no = z\n",
        "  def detail(self):\n",
        "    print(self.course,'-',self.date,'-',self.no)\n",
        "# Write your code here\n",
        "c1 = Course(\"CSE110\", \"TBA\", 8)\n",
        "c1.detail()\n",
        "print(\"===============\")\n",
        "c2 = Course(\"CSE111\", \"TBA\", 9)\n",
        "c2.detail()"
      ]
    },
    {
      "cell_type": "markdown",
      "source": [
        "#Task 3"
      ],
      "metadata": {
        "id": "lzgd0e-xi_qI"
      },
      "id": "lzgd0e-xi_qI"
    },
    {
      "cell_type": "code",
      "execution_count": null,
      "id": "41526522",
      "metadata": {
        "id": "41526522",
        "colab": {
          "base_uri": "https://localhost:8080/"
        },
        "outputId": "a8efa9b2-8b59-454b-93d9-ae021c29dc7d"
      },
      "outputs": [
        {
          "output_type": "stream",
          "name": "stdout",
          "text": [
            "Name: A\n",
            "Age: 55\n",
            "Weight: 63.0 kg\n",
            "Height: 158.0 cm\n",
            "BMI: 25.236340330075304\n",
            "====================\n",
            "Name: B\n",
            "Age: 53\n",
            "Weight: 61.0 kg\n",
            "Height: 149.0 cm\n",
            "BMI: 27.476239809017613\n"
          ]
        }
      ],
      "source": [
        "class Patient:\n",
        "  def __init__(self,name,age,weight,height):\n",
        "    self.name = name\n",
        "    self.age = age\n",
        "    self.weight = weight\n",
        "    self.height = height\n",
        "  def printDetails(s):\n",
        "    bmi = s.weight/(s.height/100)**2\n",
        "    print(f'Name: {s.name}')\n",
        "    print(f'Age: {s.age}')\n",
        "    print(f'Weight: {s.weight} kg')\n",
        "    print(f'Height: {s.height} cm')\n",
        "    print(f'BMI: {bmi}')\n",
        "# driver code\n",
        "p1 = Patient(\"A\", 55, 63.0, 158.0)\n",
        "p1.printDetails()\n",
        "print(\"====================\")\n",
        "p2 = Patient(\"B\", 53, 61.0, 149.0)\n",
        "p2.printDetails()"
      ]
    },
    {
      "cell_type": "markdown",
      "source": [
        "#Task 4"
      ],
      "metadata": {
        "id": "cZWMllHbjBuZ"
      },
      "id": "cZWMllHbjBuZ"
    },
    {
      "cell_type": "code",
      "source": [
        "class Vehicle:\n",
        "  def __init__(s):\n",
        "    s.x = 0\n",
        "    s.y = 0\n",
        "  def moveUp(self):\n",
        "    self.y += 1 \n",
        "  def moveDown(self):\n",
        "    self.y -= 1 \n",
        "  def moveRight(self):\n",
        "    self.x += 1 \n",
        "  def moveLeft(self):\n",
        "    self.x -= 1 \n",
        "  def print_position(self):\n",
        "    print((self.x,self.y))\n",
        "# Driver\n",
        "car = Vehicle()\n",
        "car.print_position()\n",
        "car.moveUp()\n",
        "car.print_position()\n",
        "car.moveLeft()\n",
        "car.print_position()\n",
        "car.moveDown()\n",
        "car.print_position()\n",
        "car.moveRight()"
      ],
      "metadata": {
        "colab": {
          "base_uri": "https://localhost:8080/"
        },
        "id": "6u3DQ-AHjMjI",
        "outputId": "5945b7f2-e98f-4564-bdaf-df85ebad5303"
      },
      "id": "6u3DQ-AHjMjI",
      "execution_count": null,
      "outputs": [
        {
          "output_type": "stream",
          "name": "stdout",
          "text": [
            "(0, 0)\n",
            "(0, 1)\n",
            "(-1, 1)\n",
            "(-1, 0)\n"
          ]
        }
      ]
    },
    {
      "cell_type": "markdown",
      "source": [
        "#Task 5"
      ],
      "metadata": {
        "id": "DTsBBx6njDrp"
      },
      "id": "DTsBBx6njDrp"
    },
    {
      "cell_type": "code",
      "source": [
        "class Shape:\n",
        "  def __init__(s,a,b,c):\n",
        "    s.shp = a\n",
        "    s.l1 = b\n",
        "    s.l2 = c\n",
        "\n",
        "  def area(s):\n",
        "    if s.shp == \"Triangle\":\n",
        "      area = 1/2 * s.l1 * s.l2\n",
        "    elif s.shp == \"Square\" or s.shp == \"Rectangle\":\n",
        "      area = s.l1 * s.l2\n",
        "    elif s.shp == \"Rhombus\":\n",
        "      area = (s.l1 * s.l2) / 2\n",
        "    else:\n",
        "      area = 'Shape unknown'  \n",
        "    print(f'Area: {area}')\n",
        "# Write your code here\n",
        "triangle = Shape(\"Triangle\",10,25)\n",
        "triangle.area()\n",
        "print(\"==========================\")\n",
        "square = Shape(\"Square\",10,10)\n",
        "square.area()\n",
        "print(\"==========================\")\n",
        "rhombus = Shape(\"Rhombus\",18,25)\n",
        "rhombus.area()\n",
        "print(\"==========================\")\n",
        "rectangle = Shape(\"Rectangle\",15,30)\n",
        "rectangle.area()\n",
        "print(\"==========================\")\n",
        "trapezium = Shape(\"Trapezium\",15,30)\n",
        "trapezium.area()"
      ],
      "metadata": {
        "id": "NmU7W9EVjND9",
        "colab": {
          "base_uri": "https://localhost:8080/"
        },
        "outputId": "8f988974-7f7f-4324-96ac-ae6c3bfa667c"
      },
      "id": "NmU7W9EVjND9",
      "execution_count": null,
      "outputs": [
        {
          "output_type": "stream",
          "name": "stdout",
          "text": [
            "Area: 125.0\n",
            "==========================\n",
            "Area: 100\n",
            "==========================\n",
            "Area: 225.0\n",
            "==========================\n",
            "Area: 450\n",
            "==========================\n",
            "Area: Shape unknown\n"
          ]
        }
      ]
    },
    {
      "cell_type": "markdown",
      "source": [
        "# Task 6"
      ],
      "metadata": {
        "id": "FZMkza3KjWwn"
      },
      "id": "FZMkza3KjWwn"
    },
    {
      "cell_type": "code",
      "source": [
        "# Write your code here\n",
        "class Calculator:\n",
        "  def __init__(self):\n",
        "    print('Calculator is ready')\n",
        "\n",
        "  def calculate(self,n1,n2,opr):\n",
        "    self.n1 = n1\n",
        "    self.n2 = n2\n",
        "    self.opr = opr\n",
        "    if opr == '+':\n",
        "      return n1+n2\n",
        "    if opr == '-':\n",
        "      return n1-n2\n",
        "    if opr == '*':\n",
        "      return n1*n2\n",
        "    if opr == '/':\n",
        "      return n1/n2\n",
        "    else:\n",
        "      return 'error'\n",
        "\n",
        "  def showCalculation(self):\n",
        "    result = self.calculate(self.n1,self.n2,self.opr)\n",
        "    print(f'{self.n1}{self.opr}{self.n2}={result}')\n",
        "\n",
        "# driver\n",
        "c1 = Calculator()\n",
        "print(\"==================\")\n",
        "val = c1.calculate(10, 20, '+')\n",
        "print(\"Returned value:\", val)\n",
        "c1.showCalculation()\n",
        "print(\"==================\")\n",
        "val = c1.calculate(val, 10, '-')\n",
        "print(\"Returned value:\", val)\n",
        "c1.showCalculation()\n",
        "print(\"==================\")\n",
        "val = c1.calculate(val, 5, '*')\n",
        "print(\"Returned value:\", val)\n",
        "c1.showCalculation()\n",
        "print(\"==================\")\n",
        "val = c1.calculate(val, 16, '/')\n",
        "print(\"Returned value:\", val)\n",
        "c1.showCalculation()"
      ],
      "metadata": {
        "id": "ZpoE30SYjNFw",
        "colab": {
          "base_uri": "https://localhost:8080/"
        },
        "outputId": "2bebbeeb-4add-4acb-c95e-408b7b274cbb"
      },
      "id": "ZpoE30SYjNFw",
      "execution_count": 3,
      "outputs": [
        {
          "output_type": "stream",
          "name": "stdout",
          "text": [
            "Calculator is ready\n",
            "==================\n",
            "Returned value: 30\n",
            "10+20=30\n",
            "==================\n",
            "Returned value: 20\n",
            "30-10=20\n",
            "==================\n",
            "Returned value: 100\n",
            "20*5=100\n",
            "==================\n",
            "Returned value: 6.25\n",
            "100/16=6.25\n"
          ]
        }
      ]
    },
    {
      "cell_type": "markdown",
      "source": [
        "#Task 7"
      ],
      "metadata": {
        "id": "26AlfmYDjc8D"
      },
      "id": "26AlfmYDjc8D"
    },
    {
      "cell_type": "code",
      "source": [
        ""
      ],
      "metadata": {
        "id": "vDTxQ9dr2w42"
      },
      "id": "vDTxQ9dr2w42",
      "execution_count": null,
      "outputs": []
    },
    {
      "cell_type": "markdown",
      "source": [
        "#Task 11"
      ],
      "metadata": {
        "id": "XIwjvphIjfX5"
      },
      "id": "XIwjvphIjfX5"
    },
    {
      "cell_type": "code",
      "source": [
        "class Spotify:\n",
        "  def __init__(self,lst):\n",
        "    print('Welcome to Spotify!')\n",
        "    self.lst = lst\n",
        "  \n",
        "  def add_to_playlist(self, song):\n",
        "    Dhaka = self.lst\n",
        "    Dhaka.append(song)\n",
        "\n",
        "  def playing_number(self,i):\n",
        "    if i > len(self.lst):\n",
        "      return f'{i} number song not found. Your playlist has {len(self.lst)} songs only.'\n",
        "    else:\n",
        "      return f'##########################\\nPlaying {i} number song for you \\nSong name: {self.lst[i-1]}'\n",
        "\n",
        "# Write your code here\n",
        "user1 = Spotify([\"See You Again\", \"Uptown Funk\", \"Hello\"])\n",
        "print(\"=========================\")\n",
        "print(user1.playing_number(4))\n",
        "user1.add_to_playlist(\"Dusk Till Dawn\")\n",
        "print(user1.playing_number(3))\n",
        "print(user1.playing_number(4))\n",
        "\n",
        "# Output\n",
        "#  Welcome to Spotify!\n",
        "#  =========================\n",
        "#  4 number song not found. Your playlist has 3 songs only.\n",
        "#  ##########################\n",
        "#  Playing 3 number song for you\n",
        "#  Song name: Hello\n",
        "#  ##########################\n",
        "#  Playing 4 number song for you\n",
        "#  Song name: Dusk Till Dawn\n"
      ],
      "metadata": {
        "id": "LW504qkH2w7_",
        "colab": {
          "base_uri": "https://localhost:8080/"
        },
        "outputId": "465edfc3-9845-4cc7-98c5-c8e4736b0b86"
      },
      "id": "LW504qkH2w7_",
      "execution_count": null,
      "outputs": [
        {
          "output_type": "stream",
          "name": "stdout",
          "text": [
            "Welcome to Spotify!\n",
            "=========================\n",
            "4 number song not found. Your playlist has 3 songs only.\n",
            "##########################\n",
            "Playing 3 number song for you \n",
            "Song name: Hello\n",
            "##########################\n",
            "Playing 4 number song for you \n",
            "Song name: Dusk Till Dawn\n"
          ]
        }
      ]
    },
    {
      "cell_type": "code",
      "source": [
        "print(print('a'))"
      ],
      "metadata": {
        "id": "rM0l1LY5EbBp"
      },
      "id": "rM0l1LY5EbBp",
      "execution_count": null,
      "outputs": []
    },
    {
      "cell_type": "code",
      "source": [
        "class Test:\n",
        "  def __init__(self):\n",
        "    self.sum = 0\n",
        "    self.y = 0\n",
        "  \n",
        "  def methodA(self):\n",
        "    x=0\n",
        "    y =0\n",
        "    y = y + 7\n",
        "    x = y + 11\n",
        "    self.sum = x + y\n",
        "    print(x , y, self.sum)\n",
        "  \n",
        "  def methodB(self):\n",
        "    x = 0\n",
        "    self.y = self.y + 11\n",
        "    x = x + 33 + self.y\n",
        "    self.sum = self.sum + x + self.y\n",
        "    print(x , self.y, self.sum)\n",
        "\n",
        "t1 = Test()\n",
        "t1.methodA()\n",
        "t1.methodA()\n",
        "t1.methodB()\n",
        "t1.methodB()"
      ],
      "metadata": {
        "colab": {
          "base_uri": "https://localhost:8080/"
        },
        "id": "guwf_ZccjNHl",
        "outputId": "e97a3eef-813f-4d15-cb27-c1f9f1f1c7d9"
      },
      "id": "guwf_ZccjNHl",
      "execution_count": null,
      "outputs": [
        {
          "output_type": "stream",
          "name": "stdout",
          "text": [
            "18 7 25\n",
            "18 7 25\n",
            "44 11 80\n",
            "55 22 157\n"
          ]
        }
      ]
    },
    {
      "cell_type": "code",
      "source": [
        "class Scope:\n",
        "  def __init__(self):\n",
        "    self.x, self.y = 1, 100\n",
        "  def met1(self):\n",
        "    x = 3\n",
        "    x = self.x + 1\n",
        "    self.y = self.y + self.x + 1\n",
        "    x = self.y + self.met2() + self.y\n",
        "    print(x, self.y)\n",
        "  def met2(self):\n",
        "    y = 0\n",
        "    print(self.x, y)\n",
        "    self.x = self.x + y\n",
        "    self.y = self.y + 200\n",
        "    return self.x + y\n",
        "q2 = Scope()\n",
        "q2.met1()\n",
        "q2.met2()\n",
        "q2.met1()\n",
        "q2.met2()"
      ],
      "metadata": {
        "colab": {
          "base_uri": "https://localhost:8080/"
        },
        "id": "m9fzceSD2vqA",
        "outputId": "5e3c8e3a-1b3a-48bd-e9b1-e1748353fc41"
      },
      "id": "m9fzceSD2vqA",
      "execution_count": null,
      "outputs": [
        {
          "output_type": "stream",
          "name": "stdout",
          "text": [
            "1 0\n",
            "405 302\n",
            "1 0\n",
            "1 0\n",
            "1209 704\n",
            "1 0\n"
          ]
        },
        {
          "output_type": "execute_result",
          "data": {
            "text/plain": [
              "1"
            ]
          },
          "metadata": {},
          "execution_count": 18
        }
      ]
    },
    {
      "cell_type": "code",
      "source": [
        "class Test3:\n",
        "  def __init__(self):\n",
        "    self.sum, self.y = 0, 0\n",
        "  def methodA(self):\n",
        "    x, y = 2, 3\n",
        "    msg = [0]\n",
        "    msg[0] = 3\n",
        "    y = self.y + msg[0]\n",
        "    self.methodB(msg, msg[0])\n",
        "    x = self.y + msg[0]\n",
        "    self.sum = x + y + msg[0]\n",
        "    print(x, y, self.sum)\n",
        "  def methodB(self, mg2, mg1):\n",
        "    x = 0\n",
        "    self.y = self.y + mg2[0]\n",
        "    x = x + 33 + mg1\n",
        "    self.sum = self.sum + x + self.y\n",
        "    mg2[0] = self.y + mg1\n",
        "    mg1 = mg1 + x + 2\n",
        "    print(x, self.y, self.sum)\n",
        "# Driver\n",
        "t3 = Test3()\n",
        "t3.methodA()\n",
        "t3.methodA()\n",
        "t3.methodA()\n",
        "t3.methodA()"
      ],
      "metadata": {
        "colab": {
          "base_uri": "https://localhost:8080/"
        },
        "id": "ME2uvtZ52v0L",
        "outputId": "37d320a2-9fce-4554-dd7a-281254d4f6e6"
      },
      "id": "ME2uvtZ52v0L",
      "execution_count": null,
      "outputs": [
        {
          "output_type": "stream",
          "name": "stdout",
          "text": [
            "36 3 39\n",
            "9 3 18\n",
            "36 6 60\n",
            "15 6 30\n",
            "36 9 75\n",
            "21 9 42\n",
            "36 12 90\n",
            "27 12 54\n"
          ]
        }
      ]
    },
    {
      "cell_type": "code",
      "source": [
        "class Test5:\n",
        "  def __init__(self):\n",
        "    self.sum, self.y = 0, 0\n",
        "  \n",
        "  def methodA(self):\n",
        "    x = 0\n",
        "    z = 0\n",
        "    while (z < 5):\n",
        "      self.y = self.y + self.sum\n",
        "      x = self.y + 1\n",
        "      print(x, self.y, self.sum)\n",
        "      self.sum = self.sum + self.methodB(x, self.y)\n",
        "      z += 1\n",
        "  \n",
        "  def methodB(self, m, n):\n",
        "    x = 0\n",
        "    sum = 0\n",
        "    self.y = self.y + m\n",
        "    x = n - 4\n",
        "    sum = sum + self.y\n",
        "    print(x, self.y, sum)\n",
        "    return self.sum\n",
        "\n",
        "t5 = Test5()\n",
        "t5.methodA()"
      ],
      "metadata": {
        "colab": {
          "base_uri": "https://localhost:8080/"
        },
        "id": "WEVspJlt2v7l",
        "outputId": "648b4622-85a7-4f41-ccc4-6689cb82a18f"
      },
      "id": "WEVspJlt2v7l",
      "execution_count": null,
      "outputs": [
        {
          "output_type": "stream",
          "name": "stdout",
          "text": [
            "1 0 0\n",
            "-4 1 1\n",
            "2 1 0\n",
            "-3 3 3\n",
            "4 3 0\n",
            "-1 7 7\n",
            "8 7 0\n",
            "3 15 15\n",
            "16 15 0\n",
            "11 31 31\n"
          ]
        }
      ]
    }
  ],
  "metadata": {
    "kernelspec": {
      "display_name": "Python 3 (ipykernel)",
      "language": "python",
      "name": "python3"
    },
    "language_info": {
      "codemirror_mode": {
        "name": "ipython",
        "version": 3
      },
      "file_extension": ".py",
      "mimetype": "text/x-python",
      "name": "python",
      "nbconvert_exporter": "python",
      "pygments_lexer": "ipython3",
      "version": "3.9.12"
    },
    "colab": {
      "name": "CSE111-Assignment_3.ipynb",
      "provenance": [],
      "collapsed_sections": [],
      "include_colab_link": true
    }
  },
  "nbformat": 4,
  "nbformat_minor": 5
}