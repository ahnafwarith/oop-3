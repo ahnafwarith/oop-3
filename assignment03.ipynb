{
 "cells": [
  {
   "cell_type": "code",
   "execution_count": 3,
   "metadata": {},
   "outputs": [
    {
     "name": "stdout",
     "output_type": "stream",
     "text": [
      "Hello Ahnaf Warith\n"
     ]
    }
   ],
   "source": [
    "# Task 1\n",
    "class Calculator:\n",
    "    def __init__(self,):\n",
    "        print(\"Let's calculate\")\n",
    "        self.fValue = int(input('1st value: '))\n",
    "        self.sValue = int(input('2nd value: '))\n",
    "    def add(self):\n",
    "        print('Result:',self.fValue+self.sValue)\n",
    "    def subtract(self,):\n",
    "        print('Result:',self.fValue-self.sValue)\n",
    "    def multiply(self):\n",
    "        print('Result:',self.fValue*self.sValue)\n",
    "    def divide(self):\n",
    "        print('Result:',self.fValue/self.sValue)\n",
    "c1 = Calculator()\n",
    "operator = input('operator: ')\n",
    "if operator == '+':\n",
    "  c1.add()\n",
    "elif operator == '-':\n",
    "  c1.subtract()\n",
    "elif operator == '*':\n",
    "  c1.multiply()\n",
    "elif operator == '/':\n",
    "  c1.divide()\n",
    "else:\n",
    "  print('select another operator')"
   ]
  },
  {
   "cell_type": "code",
   "execution_count": null,
   "metadata": {},
   "outputs": [],
   "source": [
    "# Task 2\n",
    "class Course:\n",
    "  def __init__(self,x,y,z):\n",
    "    self.course = x\n",
    "    self.date = y\n",
    "    self.no = z\n",
    "  def detail(self):\n",
    "    print(self.course,'-',self.date,'-',self.no)\n",
    "# Write your code here\n",
    "c1 = Course(\"CSE110\", \"TBA\", 8)\n",
    "c1.detail()\n",
    "print(\"===============\")\n",
    "c2 = Course(\"CSE111\", \"TBA\", 9)\n",
    "c2.detail()"
   ]
  },
  {
   "cell_type": "code",
   "execution_count": null,
   "metadata": {},
   "outputs": [],
   "source": [
    "# Task 3\n",
    "class Patient:\n",
    "  def __init__(self,name,age,weight,height):\n",
    "    self.name = name\n",
    "    self.age = age\n",
    "    self.weight = weight\n",
    "    self.height = height\n",
    "  def printDetails(s):\n",
    "    bmi = s.weight/(s.height/100)**2\n",
    "    print(f'Name: {s.name}')\n",
    "    print(f'Age: {s.age}')\n",
    "    print(f'Weight: {s.weight} kg')\n",
    "    print(f'Height: {s.height} cm')\n",
    "    print(f'BMI: {bmi}')\n",
    "# driver code\n",
    "p1 = Patient(\"A\", 55, 63.0, 158.0)\n",
    "p1.printDetails()\n",
    "print(\"====================\")\n",
    "p2 = Patient(\"B\", 53, 61.0, 149.0)\n",
    "p2.printDetails()"
   ]
  },
  {
   "cell_type": "code",
   "execution_count": null,
   "metadata": {},
   "outputs": [],
   "source": [
    "# Task 4\n",
    "class Vehicle:\n",
    "  def __init__(s):\n",
    "    s.x = 0\n",
    "    s.y = 0\n",
    "  def moveUp(self):\n",
    "    self.y += 1 \n",
    "  def moveDown(self):\n",
    "    self.y -= 1 \n",
    "  def moveRight(self):\n",
    "    self.x += 1 \n",
    "  def moveLeft(self):\n",
    "    self.x -= 1 \n",
    "  def print_position(self):\n",
    "    print((self.x,self.y))\n",
    "# Driver\n",
    "car = Vehicle()\n",
    "car.print_position()\n",
    "car.moveUp()\n",
    "car.print_position()\n",
    "car.moveLeft()\n",
    "car.print_position()\n",
    "car.moveDown()\n",
    "car.print_position()\n",
    "car.moveRight()"
   ]
  },
  {
   "cell_type": "code",
   "execution_count": null,
   "metadata": {},
   "outputs": [],
   "source": [
    "# Task 5\n",
    "class Shape:\n",
    "  def __init__(s,a,b,c):\n",
    "    s.shp = a\n",
    "    s.l1 = b\n",
    "    s.l2 = c\n",
    "\n",
    "  def area(s):\n",
    "    if s.shp == \"Triangle\":\n",
    "      area = 1/2 * s.l1 * s.l2\n",
    "    elif s.shp == \"Square\" or s.shp == \"Rectangle\":\n",
    "      area = s.l1 * s.l2\n",
    "    elif s.shp == \"Rhombus\":\n",
    "      area = (s.l1 * s.l2) / 2\n",
    "    else:\n",
    "      area = 'Shape unknown'  \n",
    "    print(f'Area: {area}')\n",
    "# Write your code here\n",
    "triangle = Shape(\"Triangle\",10,25)\n",
    "triangle.area()\n",
    "print(\"==========================\")\n",
    "square = Shape(\"Square\",10,10)\n",
    "square.area()\n",
    "print(\"==========================\")\n",
    "rhombus = Shape(\"Rhombus\",18,25)\n",
    "rhombus.area()\n",
    "print(\"==========================\")\n",
    "rectangle = Shape(\"Rectangle\",15,30)\n",
    "rectangle.area()\n",
    "print(\"==========================\")\n",
    "trapezium = Shape(\"Trapezium\",15,30)\n",
    "trapezium.area()"
   ]
  },
  {
   "cell_type": "code",
   "execution_count": null,
   "metadata": {},
   "outputs": [],
   "source": [
    "# Task 6\n"
   ]
  },
  {
   "cell_type": "code",
   "execution_count": null,
   "metadata": {},
   "outputs": [],
   "source": [
    "# Task 7"
   ]
  },
  {
   "cell_type": "code",
   "execution_count": null,
   "metadata": {},
   "outputs": [],
   "source": [
    "# Task 8"
   ]
  },
  {
   "cell_type": "code",
   "execution_count": null,
   "metadata": {},
   "outputs": [],
   "source": [
    "# Task 9"
   ]
  },
  {
   "cell_type": "code",
   "execution_count": null,
   "metadata": {},
   "outputs": [],
   "source": [
    "# Task 10"
   ]
  },
  {
   "cell_type": "code",
   "execution_count": null,
   "metadata": {},
   "outputs": [],
   "source": [
    "# Task 11\n",
    "class Spotify:\n",
    "  def __init__(self,lst):\n",
    "    print('Welcome to Spotify!')\n",
    "    self.lst = lst\n",
    "  \n",
    "  def add_to_playlist(self, song):\n",
    "    Dhaka = self.lst\n",
    "    Dhaka.append(song)\n",
    "\n",
    "  def playing_number(self,i):\n",
    "    if i > len(self.lst):\n",
    "      return f'{i} number song not found. Your playlist has {len(self.lst)} songs only.'\n",
    "    else:\n",
    "      return f'##########################\\nPlaying {i} number song for you \\nSong name: {self.lst[i-1]}'\n",
    "\n",
    "# Write your code here\n",
    "user1 = Spotify([\"See You Again\", \"Uptown Funk\", \"Hello\"])\n",
    "print(\"=========================\")\n",
    "print(user1.playing_number(4))\n",
    "user1.add_to_playlist(\"Dusk Till Dawn\")\n",
    "print(user1.playing_number(3))\n",
    "print(user1.playing_number(4))"
   ]
  },
  {
   "cell_type": "code",
   "execution_count": null,
   "metadata": {},
   "outputs": [],
   "source": [
    "# Task 11\n",
    "class Spotify:\n",
    "  def __init__(self,lst):\n",
    "    print('Welcome to Spotify!')\n",
    "    self.lst = lst\n",
    "  \n",
    "  def add_to_playlist(self, song):\n",
    "    Dhaka = self.lst\n",
    "    Dhaka.append(song)\n",
    "\n",
    "  def playing_number(self,i):\n",
    "    if i > len(self.lst):\n",
    "      return f'{i} number song not found. Your playlist has {len(self.lst)} songs only.'\n",
    "    else:\n",
    "      return f'##########################\\nPlaying {i} number song for you \\nSong name: {self.lst[i-1]}'\n",
    "\n",
    "# Write your code here\n",
    "user1 = Spotify([\"See You Again\", \"Uptown Funk\", \"Hello\"])\n",
    "print(\"=========================\")\n",
    "print(user1.playing_number(4))\n",
    "user1.add_to_playlist(\"Dusk Till Dawn\")\n",
    "print(user1.playing_number(3))\n",
    "print(user1.playing_number(4))"
   ]
  },
  {
   "cell_type": "code",
   "execution_count": null,
   "metadata": {},
   "outputs": [],
   "source": [
    "# Task 12 (Code tracing)\n",
    "class Test:\n",
    "  def __init__(self):\n",
    "    self.sum = 0\n",
    "    self.y = 0\n",
    "  \n",
    "  def methodA(self):\n",
    "    x=0\n",
    "    y =0\n",
    "    y = y + 7\n",
    "    x = y + 11\n",
    "    self.sum = x + y\n",
    "    print(x , y, self.sum)\n",
    "  \n",
    "  def methodB(self):\n",
    "    x = 0\n",
    "    self.y = self.y + 11\n",
    "    x = x + 33 + self.y\n",
    "    self.sum = self.sum + x + self.y\n",
    "    print(x , self.y, self.sum)\n",
    "\n",
    "t1 = Test()\n",
    "t1.methodA()\n",
    "t1.methodA()\n",
    "t1.methodB()\n",
    "t1.methodB()"
   ]
  },
  {
   "cell_type": "code",
   "execution_count": null,
   "metadata": {},
   "outputs": [],
   "source": []
  },
  {
   "cell_type": "code",
   "execution_count": null,
   "metadata": {},
   "outputs": [],
   "source": [
    "# Task 13 (Code tracing)"
   ]
  },
  {
   "cell_type": "code",
   "execution_count": null,
   "metadata": {},
   "outputs": [],
   "source": []
  },
  {
   "cell_type": "code",
   "execution_count": null,
   "metadata": {},
   "outputs": [],
   "source": [
    "# Task 14 (Code tracing)"
   ]
  },
  {
   "cell_type": "code",
   "execution_count": null,
   "metadata": {},
   "outputs": [],
   "source": []
  },
  {
   "cell_type": "code",
   "execution_count": null,
   "metadata": {},
   "outputs": [],
   "source": [
    "# Task 15 (Code tracing)"
   ]
  },
  {
   "cell_type": "code",
   "execution_count": null,
   "metadata": {},
   "outputs": [],
   "source": []
  }
 ],
 "metadata": {
  "kernelspec": {
   "display_name": "Python 3.10.0 64-bit",
   "language": "python",
   "name": "python3"
  },
  "language_info": {
   "codemirror_mode": {
    "name": "ipython",
    "version": 3
   },
   "file_extension": ".py",
   "mimetype": "text/x-python",
   "name": "python",
   "nbconvert_exporter": "python",
   "pygments_lexer": "ipython3",
   "version": "3.10.0"
  },
  "orig_nbformat": 4,
  "vscode": {
   "interpreter": {
    "hash": "afb734500600fd355917ca529030176ea0ca205570884b88f2f6f7d791fd3fbe"
   }
  }
 },
 "nbformat": 4,
 "nbformat_minor": 2
}
